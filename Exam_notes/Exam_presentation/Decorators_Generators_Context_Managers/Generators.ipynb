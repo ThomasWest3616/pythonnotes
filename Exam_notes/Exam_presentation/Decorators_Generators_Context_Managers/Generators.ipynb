{
 "cells": [
  {
   "cell_type": "markdown",
   "id": "3e44c717",
   "metadata": {},
   "source": [
    "# Generators\n",
    "\n",
    "### Iterables\n",
    "\n",
    "Når du laver en liste, kan du læse dets items en efter en. Dette kaldes iteration.\n",
    "\n",
    "Alt du kan bruge “for og in” på er en iterable; lists, strings, files osv.\n",
    "\n",
    "De her iterables er smarte, da du kan indlæse så¨meget du ønsker, men du gemmer alle værdieren i memory og det ønsker vi ikke altid, hvis man nu f.eks. har mange værdier. \n"
   ]
  },
  {
   "cell_type": "code",
   "execution_count": 1,
   "id": "e13362a8",
   "metadata": {},
   "outputs": [
    {
     "name": "stdout",
     "output_type": "stream",
     "text": [
      "1\n",
      "2\n",
      "3\n"
     ]
    }
   ],
   "source": [
    "mylist = [1, 2, 3]\n",
    "for i in mylist:\n",
    "    print(i)"
   ]
  },
  {
   "cell_type": "markdown",
   "id": "ef51a29c",
   "metadata": {},
   "source": [
    "### Generators\n",
    "\n",
    "Generators gør koden lettere at læse, samt generators har ikke memory storage.\n",
    "\n",
    "Generators er iterators, hvor du kun kan iterate en gang. \n",
    "\n",
    "Generators gemmer ikke værdierne i memory, de genererer værdierne on the go. \n",
    "\n",
    "#### Eksempel uden generator:\n"
   ]
  },
  {
   "cell_type": "code",
   "execution_count": 3,
   "id": "e640a218",
   "metadata": {},
   "outputs": [
    {
     "name": "stdout",
     "output_type": "stream",
     "text": [
      "[1, 4, 9, 16, 25]\n"
     ]
    }
   ],
   "source": [
    "def square_numbers(nums):\n",
    "    result = []\n",
    "    for i in nums:\n",
    "        result.append(i*i)\n",
    "\n",
    "    return result\n",
    "\n",
    "\n",
    "my_nums = square_numbers([1,2,3,4,5])\n",
    "\n",
    "print(my_nums)"
   ]
  },
  {
   "cell_type": "markdown",
   "id": "76bad124",
   "metadata": {},
   "source": [
    "#### Med generator:\n",
    "\n",
    "Yield er et keyword som bliver brugt ligesom return, bortset fra at funktionen vil returnere en generator"
   ]
  },
  {
   "cell_type": "code",
   "execution_count": 2,
   "id": "f7ae2d57",
   "metadata": {},
   "outputs": [
    {
     "name": "stdout",
     "output_type": "stream",
     "text": [
      "1\n",
      "4\n",
      "9\n",
      "16\n",
      "25\n"
     ]
    }
   ],
   "source": [
    "def square_numbers(nums):\n",
    "    for i in nums:\n",
    "        yield (i*i) # yield gør det til en generator\n",
    "\n",
    "my_nums = square_numbers([1,2,3,4,5])\n",
    "\n",
    "for num in my_nums:\n",
    "    print(num)"
   ]
  },
  {
   "cell_type": "markdown",
   "id": "46be9bcf",
   "metadata": {},
   "source": [
    "### Size difference"
   ]
  },
  {
   "cell_type": "code",
   "execution_count": 20,
   "id": "785ae658",
   "metadata": {},
   "outputs": [
    {
     "name": "stdout",
     "output_type": "stream",
     "text": [
      "85176\n",
      "104\n"
     ]
    }
   ],
   "source": [
    "import sys\n",
    "\n",
    "def gen(n):\n",
    "    for i in range(n):\n",
    "        yield i**2\n",
    "        \n",
    "x = [i ** 2 for i in range(10000)]\n",
    "g = gen(10000)\n",
    "\n",
    "print(sys.getsizeof(x))\n",
    "print(sys.getsizeof(g))"
   ]
  },
  {
   "cell_type": "markdown",
   "id": "fb9d82d5",
   "metadata": {},
   "source": [
    "### Generator Expression\n",
    "#### A generator expression is an expression that returns a generator object. \n",
    "#### Basically, a generator function is a function that contains a yield statement and returns a generator object."
   ]
  },
  {
   "cell_type": "code",
   "execution_count": 16,
   "id": "d1c1a44d",
   "metadata": {},
   "outputs": [
    {
     "name": "stdout",
     "output_type": "stream",
     "text": [
      "[0, 1, 2, 3, 4, 5, 6, 7, 8, 9]\n",
      "<generator object <genexpr> at 0x000001AF93434970>\n",
      "3\n",
      "4\n",
      "5\n",
      "6\n",
      "7\n",
      "8\n",
      "9\n"
     ]
    }
   ],
   "source": [
    "my_list = [x for x in range(0,10)] # Dette er en list coprehension\n",
    "my_generator = (x for x in  range(0,10)) # Dette er en generator expression, da vi bruger () i stedet for []\n",
    "\n",
    "print(my_list)\n",
    "print(my_generator)\n",
    "next(my_generator) # Giver det næste resultat i vores generator expression\n",
    "next(my_generator)\n",
    "next(my_generator)\n",
    "\n",
    "for item_left in my_generator: # Vil fortsætte hvor vi slap, da vi har 3 x next, vil den starte fra 3\n",
    "    print(item_left)\n",
    "\n",
    "# next(my_generator) # Vil give fejl, da der ikke er flere items i generatoren"
   ]
  }
 ],
 "metadata": {
  "kernelspec": {
   "display_name": "Python 3 (ipykernel)",
   "language": "python",
   "name": "python3"
  },
  "language_info": {
   "codemirror_mode": {
    "name": "ipython",
    "version": 3
   },
   "file_extension": ".py",
   "mimetype": "text/x-python",
   "name": "python",
   "nbconvert_exporter": "python",
   "pygments_lexer": "ipython3",
   "version": "3.10.2"
  }
 },
 "nbformat": 4,
 "nbformat_minor": 5
}
