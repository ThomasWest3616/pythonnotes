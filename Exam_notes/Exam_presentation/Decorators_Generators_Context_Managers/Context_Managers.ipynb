{
 "cells": [
  {
   "cell_type": "markdown",
   "id": "b9218f14",
   "metadata": {},
   "source": [
    "# Context Manager\n",
    "\n",
    "#### Context managers allow you to allocate and release resources precisely when you want to"
   ]
  },
  {
   "cell_type": "code",
   "execution_count": 2,
   "id": "ccb4b0e0",
   "metadata": {
    "collapsed": true
   },
   "outputs": [
    {
     "ename": "FileNotFoundError",
     "evalue": "[WinError 2] The system cannot find the file specified: 'Sample-Dir-One'",
     "output_type": "error",
     "traceback": [
      "\u001b[1;31m---------------------------------------------------------------------------\u001b[0m",
      "\u001b[1;31mFileNotFoundError\u001b[0m                         Traceback (most recent call last)",
      "Input \u001b[1;32mIn [2]\u001b[0m, in \u001b[0;36m<module>\u001b[1;34m\u001b[0m\n\u001b[0;32m      2\u001b[0m \u001b[38;5;28;01mfrom\u001b[39;00m \u001b[38;5;21;01mcontextlib\u001b[39;00m \u001b[38;5;28;01mimport\u001b[39;00m contextmanager\n\u001b[0;32m      4\u001b[0m cwd \u001b[38;5;241m=\u001b[39m os\u001b[38;5;241m.\u001b[39mgetcwd()\n\u001b[1;32m----> 5\u001b[0m \u001b[43mos\u001b[49m\u001b[38;5;241;43m.\u001b[39;49m\u001b[43mchdir\u001b[49m\u001b[43m(\u001b[49m\u001b[38;5;124;43m'\u001b[39;49m\u001b[38;5;124;43mSample-Dir-One\u001b[39;49m\u001b[38;5;124;43m'\u001b[39;49m\u001b[43m)\u001b[49m\n\u001b[0;32m      6\u001b[0m \u001b[38;5;28mprint\u001b[39m(os\u001b[38;5;241m.\u001b[39mlistdir())\n\u001b[0;32m      7\u001b[0m os\u001b[38;5;241m.\u001b[39mchdir(cwd)\n",
      "\u001b[1;31mFileNotFoundError\u001b[0m: [WinError 2] The system cannot find the file specified: 'Sample-Dir-One'"
     ]
    }
   ],
   "source": [
    "import os\n",
    "from contextlib import contextmanager\n",
    "\n",
    "cwd = os.getcwd() # returns current working directory\n",
    "os.chdir('Sample-Dir-One') # change directory\n",
    "print(os.listdir()) # show directory elements\n",
    "os.chdir(cwd) # return to current working directory\n",
    "\n",
    "cdw = os.getcwd()\n",
    "os.chdir('Sample-Dir-Two')\n",
    "print(os.listdir())\n",
    "os.chdir(cwd)\n",
    "\n",
    "\n",
    "@contextmanager\n",
    "def change_dir(destination):\n",
    "    try:\n",
    "        cwd = os.getcwd() # returns current working directory\n",
    "        os.chdir(destination) # change directory\n",
    "        yield\n",
    "    finally:\n",
    "        os.chdir(cwd) # return to current working directory\n",
    "\n",
    "\n",
    "with change_dir('Sample-Dir-One'):\n",
    "    print(os.listdir())\n",
    "\n",
    "\n",
    "with change_dir('Sample-Dir-Two'):\n",
    "    print(os.listdir())"
   ]
  },
  {
   "cell_type": "markdown",
   "id": "17aefedd",
   "metadata": {},
   "source": [
    "## SQLite"
   ]
  },
  {
   "cell_type": "code",
   "execution_count": 1,
   "id": "6b8d86f0",
   "metadata": {
    "collapsed": true
   },
   "outputs": [
    {
     "ename": "OperationalError",
     "evalue": "unable to open database file",
     "output_type": "error",
     "traceback": [
      "\u001b[1;31m---------------------------------------------------------------------------\u001b[0m",
      "\u001b[1;31mOperationalError\u001b[0m                          Traceback (most recent call last)",
      "Input \u001b[1;32mIn [1]\u001b[0m, in \u001b[0;36m<module>\u001b[1;34m\u001b[0m\n\u001b[0;32m      1\u001b[0m \u001b[38;5;28;01mfrom\u001b[39;00m \u001b[38;5;21;01msqlite3\u001b[39;00m \u001b[38;5;28;01mimport\u001b[39;00m connect\n\u001b[1;32m----> 3\u001b[0m \u001b[38;5;28;01mwith\u001b[39;00m \u001b[43mconnect\u001b[49m\u001b[43m(\u001b[49m\u001b[38;5;124;43m'\u001b[39;49m\u001b[38;5;124;43mtestfiles/school.db\u001b[39;49m\u001b[38;5;124;43m'\u001b[39;49m\u001b[43m)\u001b[49m \u001b[38;5;28;01mas\u001b[39;00m conn:\n\u001b[0;32m      4\u001b[0m     cur \u001b[38;5;241m=\u001b[39m conn\u001b[38;5;241m.\u001b[39mcursor() \u001b[38;5;66;03m# Once a Connection has been established, create a Cursor object \u001b[39;00m\n\u001b[0;32m      5\u001b[0m     cur\u001b[38;5;241m.\u001b[39mexecute(\u001b[38;5;124m'\u001b[39m\u001b[38;5;124mCREATE TABLE students(id int PRIMARY KEY, name text, cpr text)\u001b[39m\u001b[38;5;124m'\u001b[39m) \u001b[38;5;66;03m# execute() method to perform SQL commands\u001b[39;00m\n",
      "\u001b[1;31mOperationalError\u001b[0m: unable to open database file"
     ]
    }
   ],
   "source": [
    "from sqlite3 import connect\n",
    "\n",
    "with connect('testfiles/school.db') as conn:\n",
    "    cur = conn.cursor() # Once a Connection has been established, create a Cursor object \n",
    "    cur.execute('CREATE TABLE students(id int PRIMARY KEY, name text, cpr text)') # execute() method to perform SQL commands\n",
    "    cur.execute('INSERT INTO students(id, name, cpr) VALUES (1, \"Claus\", \"223344-5566\")')\n",
    "\n",
    "\n",
    "    for i in cur.execute('SELECT * FROM students'):\n",
    "        print(i)\n",
    "\n",
    "    cur.execute('DROP TABLE students')"
   ]
  },
  {
   "cell_type": "code",
   "execution_count": null,
   "id": "c1de662a",
   "metadata": {},
   "outputs": [],
   "source": []
  }
 ],
 "metadata": {
  "kernelspec": {
   "display_name": "Python 3 (ipykernel)",
   "language": "python",
   "name": "python3"
  },
  "language_info": {
   "codemirror_mode": {
    "name": "ipython",
    "version": 3
   },
   "file_extension": ".py",
   "mimetype": "text/x-python",
   "name": "python",
   "nbconvert_exporter": "python",
   "pygments_lexer": "ipython3",
   "version": "3.10.2"
  }
 },
 "nbformat": 4,
 "nbformat_minor": 5
}
