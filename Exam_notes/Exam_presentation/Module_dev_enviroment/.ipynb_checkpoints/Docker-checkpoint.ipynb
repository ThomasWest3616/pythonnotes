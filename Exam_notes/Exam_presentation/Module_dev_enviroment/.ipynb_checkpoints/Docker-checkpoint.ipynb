{
 "cells": [
  {
   "cell_type": "markdown",
   "id": "c8840eea",
   "metadata": {},
   "source": [
    "# Docker\n",
    "\n",
    "## Dockerise vores eget projekt"
   ]
  },
  {
   "cell_type": "code",
   "execution_count": 2,
   "id": "2aafe6f2",
   "metadata": {},
   "outputs": [
    {
     "name": "stdout",
     "output_type": "stream",
     "text": [
      "08-03-1985\n"
     ]
    }
   ],
   "source": [
    "from datetime import datetime\n",
    "\n",
    "datetime_str = '8 Mar 85'\n",
    "\n",
    "def myFunction(): \n",
    "    datetime_object = datetime.strptime(datetime_str, '%d %b %y')\n",
    "    newly_formatted_string = datetime_object.strftime(\"%d/%m/%Y\")\n",
    "    tuple2 = (newly_formatted_string.replace(\"/\", \"-\"))\n",
    "    print(tuple2)\n",
    "\n",
    "myFunction()"
   ]
  },
  {
   "cell_type": "markdown",
   "id": "98bc91c4",
   "metadata": {},
   "source": [
    "#### Dockerfile"
   ]
  },
  {
   "cell_type": "code",
   "execution_count": 1,
   "id": "cbaafdc8",
   "metadata": {},
   "outputs": [
    {
     "ename": "SyntaxError",
     "evalue": "invalid syntax (2222525911.py, line 3)",
     "output_type": "error",
     "traceback": [
      "\u001b[1;36m  Input \u001b[1;32mIn [1]\u001b[1;36m\u001b[0m\n\u001b[1;33m    From python:3.8\u001b[0m\n\u001b[1;37m         ^\u001b[0m\n\u001b[1;31mSyntaxError\u001b[0m\u001b[1;31m:\u001b[0m invalid syntax\n"
     ]
    }
   ],
   "source": [
    "# Dockerfile, Image, Container\n",
    "\n",
    "From python:3.8\n",
    "\n",
    "ADD time.py . \n",
    "\n",
    "RUN pip install datetime\n",
    "\n",
    "CMD [\"python\", \"./time.py\"]"
   ]
  },
  {
   "cell_type": "markdown",
   "id": "4316c9b4",
   "metadata": {},
   "source": [
    "### Build image and run docker container"
   ]
  },
  {
   "cell_type": "markdown",
   "id": "0ee617f1",
   "metadata": {},
   "source": [
    "#### Build image"
   ]
  },
  {
   "cell_type": "code",
   "execution_count": null,
   "id": "ecc28152",
   "metadata": {},
   "outputs": [],
   "source": [
    "docker build --tag test/python ."
   ]
  },
  {
   "cell_type": "markdown",
   "id": "cf6151bb",
   "metadata": {},
   "source": [
    "![imagebuild](https://i.ibb.co/ZBCcpxh/Screenshot-2022-01-24-at-16-23-38.png)\n",
    "![imagebuilddocker](https://i.ibb.co/gvYy2pv/Screenshot-2022-01-24-at-16-26-14.png)\n"
   ]
  },
  {
   "cell_type": "markdown",
   "id": "5c7dcd2c",
   "metadata": {},
   "source": [
    "#### Start and build container with the desired image"
   ]
  },
  {
   "cell_type": "code",
   "execution_count": null,
   "id": "e84923cb",
   "metadata": {},
   "outputs": [],
   "source": [
    "docker run --rm -d -p 8080:80 --name containername time"
   ]
  },
  {
   "cell_type": "markdown",
   "id": "25cd9f1b",
   "metadata": {},
   "source": [
    "![containerbuilddocker](https://i.ibb.co/CtKyF2C/Screenshot-2022-01-24-at-16-28-52.png)\n",
    "![containerbuilddocker](https://i.ibb.co/VLZ25Cc/Screenshot-2022-01-24-at-16-33-19.png) "
   ]
  },
  {
   "cell_type": "markdown",
   "id": "0756c502",
   "metadata": {},
   "source": [
    "#### Sletter image"
   ]
  },
  {
   "cell_type": "code",
   "execution_count": null,
   "id": "45693f8e",
   "metadata": {},
   "outputs": [],
   "source": [
    "docker rmi time"
   ]
  },
  {
   "cell_type": "markdown",
   "id": "1835de76",
   "metadata": {},
   "source": [
    "#### Stop container"
   ]
  },
  {
   "cell_type": "code",
   "execution_count": null,
   "id": "efeff430",
   "metadata": {},
   "outputs": [],
   "source": [
    "docker stop containername"
   ]
  },
  {
   "cell_type": "markdown",
   "id": "1991d4ec",
   "metadata": {},
   "source": [
    "## Setup jupyter notebook as an Docker image"
   ]
  },
  {
   "cell_type": "markdown",
   "id": "a663aacc",
   "metadata": {},
   "source": [
    "--rm - sletter container efter brug </br>\n",
    "-p - port 8888:8888 </br>\n",
    "-v - volume mulighed for at backup dine data og dele det med andre containere </br>\n",
    "\"$PWD\" - \"print working directory\" stien til pull </br>"
   ]
  },
  {
   "cell_type": "code",
   "execution_count": null,
   "id": "e94ea782",
   "metadata": {},
   "outputs": [],
   "source": [
    "docker run --rm -p 8888:8888 -v \"$PWD\":/home/jovyan/work jupyter/datascience-notebook "
   ]
  },
  {
   "cell_type": "markdown",
   "id": "84214169",
   "metadata": {},
   "source": [
    "![jupyter](https://i.ibb.co/HqtDDpV/Screenshot-2022-01-24-at-16-36-42.png)"
   ]
  },
  {
   "cell_type": "code",
   "execution_count": null,
   "id": "bc706e21",
   "metadata": {},
   "outputs": [],
   "source": []
  }
 ],
 "metadata": {
  "kernelspec": {
   "display_name": "Python 3 (ipykernel)",
   "language": "python",
   "name": "python3"
  },
  "language_info": {
   "codemirror_mode": {
    "name": "ipython",
    "version": 3
   },
   "file_extension": ".py",
   "mimetype": "text/x-python",
   "name": "python",
   "nbconvert_exporter": "python",
   "pygments_lexer": "ipython3",
   "version": "3.10.2"
  }
 },
 "nbformat": 4,
 "nbformat_minor": 5
}
