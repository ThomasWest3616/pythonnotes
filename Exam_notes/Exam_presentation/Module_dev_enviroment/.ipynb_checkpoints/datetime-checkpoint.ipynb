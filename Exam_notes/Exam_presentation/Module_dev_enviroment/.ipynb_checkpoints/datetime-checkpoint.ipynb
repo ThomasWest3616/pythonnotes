{
 "cells": [
  {
   "cell_type": "markdown",
   "id": "bb7cac63",
   "metadata": {},
   "source": [
    "# Modules\n",
    "\n",
    "#### Python modules er kode bibliotek, som man importerer for at få adgang til færdiglavet python kode. \n",
    "\n",
    "#### Python modules giver adgang til: \n",
    "##### Definitions and implementation of classes,\n",
    "##### Variables, and\n",
    "##### Functions that can be used inside another program."
   ]
  },
  {
   "cell_type": "code",
   "execution_count": 1,
   "id": "0871c341",
   "metadata": {},
   "outputs": [],
   "source": [
    "import datetime"
   ]
  },
  {
   "cell_type": "code",
   "execution_count": 4,
   "id": "c48a1105",
   "metadata": {},
   "outputs": [
    {
     "name": "stdout",
     "output_type": "stream",
     "text": [
      "2022-01-24 20:54:32.723593\n"
     ]
    }
   ],
   "source": [
    "x = datetime.datetime.now()\n",
    "print(x)"
   ]
  },
  {
   "cell_type": "markdown",
   "id": "8dfa7688",
   "metadata": {},
   "source": [
    "## Brug af datetime til at formatere string til datetime"
   ]
  },
  {
   "cell_type": "code",
   "execution_count": 5,
   "id": "f85c71ee",
   "metadata": {},
   "outputs": [
    {
     "name": "stdout",
     "output_type": "stream",
     "text": [
      "08-03-1985\n"
     ]
    }
   ],
   "source": [
    "from datetime import datetime\n",
    "\n",
    "datetime_str = '8 Mar 85'\n",
    "\n",
    "def myFunction(): \n",
    "    datetime_object = datetime.strptime(datetime_str, '%d %b %y')\n",
    "    newly_formatted_string = datetime_object.strftime(\"%d/%m/%Y\")\n",
    "    tuple2 = (newly_formatted_string.replace(\"/\", \"-\"))\n",
    "    print(tuple2)\n",
    "\n",
    "myFunction()"
   ]
  },
  {
   "cell_type": "markdown",
   "id": "3a5dcc23",
   "metadata": {},
   "source": [
    "## Install packages\n",
    "\n",
    "pip install somePackage"
   ]
  }
 ],
 "metadata": {
  "kernelspec": {
   "display_name": "Python 3 (ipykernel)",
   "language": "python",
   "name": "python3"
  },
  "language_info": {
   "codemirror_mode": {
    "name": "ipython",
    "version": 3
   },
   "file_extension": ".py",
   "mimetype": "text/x-python",
   "name": "python",
   "nbconvert_exporter": "python",
   "pygments_lexer": "ipython3",
   "version": "3.10.2"
  }
 },
 "nbformat": 4,
 "nbformat_minor": 5
}
