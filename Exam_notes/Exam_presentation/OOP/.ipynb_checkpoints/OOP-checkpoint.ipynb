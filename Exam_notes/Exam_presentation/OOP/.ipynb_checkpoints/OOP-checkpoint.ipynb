{
 "cells": [
  {
   "cell_type": "markdown",
   "id": "d0934e27",
   "metadata": {},
   "source": [
    "# OOP\n",
    "\n",
    "### Klasse"
   ]
  },
  {
   "cell_type": "code",
   "execution_count": 1,
   "id": "c05f7d1e",
   "metadata": {},
   "outputs": [],
   "source": [
    "class Robot:\n",
    "    def __init__(self, name, color, weight):\n",
    "        self.name = name\n",
    "        self.color = color\n",
    "        self.weight = weight\n",
    "\n",
    "    def introduce_self(self):\n",
    "        print(\"My name is \" + self.name) # this in java"
   ]
  },
  {
   "cell_type": "markdown",
   "id": "3567d3cf",
   "metadata": {},
   "source": [
    "### Objektet"
   ]
  },
  {
   "cell_type": "code",
   "execution_count": 3,
   "id": "8eaea958",
   "metadata": {},
   "outputs": [
    {
     "name": "stdout",
     "output_type": "stream",
     "text": [
      "True\n",
      "My name is Tom\n",
      "My name is Hanna\n"
     ]
    }
   ],
   "source": [
    "r1 = Robot(\"Tom\", \"red\", 30)\n",
    "r2 = Robot(\"Hanna\", \"blue\", 40)\n",
    "\n",
    "r1.can_fly = True\n",
    "print(r1.can_fly)\n",
    "\n",
    "r1.introduce_self()\n",
    "r2.introduce_self()"
   ]
  },
  {
   "cell_type": "markdown",
   "id": "8c13b061",
   "metadata": {},
   "source": [
    "## Private og public attributes:\n",
    "\n",
    "### Man kan gøre sine attributes private ved at bruge enten _ eller __ foran ens attribute."
   ]
  },
  {
   "cell_type": "code",
   "execution_count": 3,
   "id": "24cc8830",
   "metadata": {},
   "outputs": [],
   "source": [
    "class Payment:\n",
    "    def __init__(self, price, name):\n",
    "        self.__final_price = price + price*0.05\n",
    "        self._name = name"
   ]
  },
  {
   "cell_type": "markdown",
   "id": "b0bb5e2a",
   "metadata": {},
   "source": [
    "### De her attributes man kan nu ikke ændre ved f.eks. at gøre:"
   ]
  },
  {
   "cell_type": "code",
   "execution_count": 4,
   "id": "f9a7990d",
   "metadata": {},
   "outputs": [],
   "source": [
    "book.__final_price = 0"
   ]
  },
  {
   "cell_type": "markdown",
   "id": "9b6449b5",
   "metadata": {},
   "source": [
    "#### Dette vil ikke virke, da vores attribute er private og dermed ikke kan ændres, som man ville kunne, hvis den nu var public. "
   ]
  },
  {
   "cell_type": "markdown",
   "id": "7c904371",
   "metadata": {},
   "source": [
    "## Getters & Setters:\n",
    "\n",
    "### Eksempel på getter og setter i python:"
   ]
  },
  {
   "cell_type": "code",
   "execution_count": 5,
   "id": "6d9bdd81",
   "metadata": {},
   "outputs": [
    {
     "name": "stdout",
     "output_type": "stream",
     "text": [
      "9.45\n"
     ]
    }
   ],
   "source": [
    "class Payment:\n",
    "    def __init__(self, price):\n",
    "        self.__final_price = price + price*0.05  \n",
    "\n",
    "    def get_final_price(self): \n",
    "        return self.__final_price\n",
    "\n",
    "    def set_final_price(self, discount): # Setter hvis man nu f.eks. har en coupon\n",
    "        self.__final_price = self.__final_price - (self.__final_price * (discount/100))\n",
    "\n",
    "   \n",
    "book = Payment(10)\n",
    "book.set_final_price(10)\n",
    "\n",
    "book.__final_price = 0 # Kan ikke ændres da attribute er private\n",
    "\n",
    "print(book.get_final_price())"
   ]
  },
  {
   "cell_type": "markdown",
   "id": "a46fcf1b",
   "metadata": {},
   "source": [
    "## Encapsulation via properties\n",
    "\n",
    "### Det smarte ved properties er at vi kan definere det som en metode, men kan tilgå det som en attribute."
   ]
  },
  {
   "cell_type": "code",
   "execution_count": 2,
   "id": "439a1e8a",
   "metadata": {},
   "outputs": [
    {
     "name": "stdout",
     "output_type": "stream",
     "text": [
      "mobilepay\n",
      "Deleting\n",
      "\n"
     ]
    }
   ],
   "source": [
    "METHODS = ['stripe', 'paypal', 'mobilepay']\n",
    "\n",
    "class Payment:\n",
    "    def __init__(self, method):\n",
    "        self.__method = method\n",
    "\n",
    "    @property\n",
    "    def method(self):\n",
    "        return self.__method\n",
    "\n",
    "    @method.setter\n",
    "    def method(self, met):\n",
    "        if(met in METHODS):\n",
    "            self.__method = met\n",
    "\n",
    "    @method.deleter\n",
    "    def method(self):\n",
    "        print(\"Deleting\")\n",
    "        self.__method = ''\n",
    "\n",
    "\n",
    "pay = Payment('stripe')\n",
    "pay.method = 'mobilepay'\n",
    "print(pay.method)\n",
    "del pay.method\n",
    "\n",
    "print(pay.method)"
   ]
  },
  {
   "cell_type": "markdown",
   "id": "f9c86017",
   "metadata": {},
   "source": [
    "## Inheritance\n",
    "\n",
    "### Inheritance giver os mulighed for at definere en klasse der arver alle metoder og egenskaber fra en anden klasse.\n",
    "\n",
    "#### Parent klassen er en klasse der nedarves fra også kaldet base klassen.\n",
    "\n",
    "#### Child klassen er en klasse der arver fra en anden klasse."
   ]
  },
  {
   "cell_type": "code",
   "execution_count": 6,
   "id": "c7732504",
   "metadata": {},
   "outputs": [
    {
     "name": "stdout",
     "output_type": "stream",
     "text": [
      "Dave\n",
      "Maths\n",
      "Mary\n"
     ]
    }
   ],
   "source": [
    "class Person:\n",
    "    name = \"\"\n",
    "\n",
    "    def __init__(self, personName):\n",
    "        self.name = personName\n",
    "\n",
    "    def showName(self):\n",
    "        print(self.name)\n",
    "\n",
    "\n",
    "class Student(Person): \t\t\t\t# Student inherits from Person superclass\n",
    "    studentClass = \"\"\n",
    "\n",
    "    def __init__(self, studentName, studentClass):\n",
    "        Person.__init__(self, studentName)\t\t# superclass constructor\n",
    "        self.studentClass = studentClass  \t\t# Student class specific\n",
    "\n",
    "    def getStudentClass(self):\n",
    "        return self.studentClass\n",
    "\n",
    "\n",
    "person1 = Person(\"Dave\")\n",
    "person1.showName()                  # Dave\n",
    "student1 = Student(\"Mary\", \"Maths\")\n",
    "print(student1.getStudentClass())   # Maths\n",
    "student1.showName()"
   ]
  },
  {
   "cell_type": "code",
   "execution_count": null,
   "id": "db3abb24",
   "metadata": {},
   "outputs": [],
   "source": []
  }
 ],
 "metadata": {
  "kernelspec": {
   "display_name": "Python 3 (ipykernel)",
   "language": "python",
   "name": "python3"
  },
  "language_info": {
   "codemirror_mode": {
    "name": "ipython",
    "version": 3
   },
   "file_extension": ".py",
   "mimetype": "text/x-python",
   "name": "python",
   "nbconvert_exporter": "python",
   "pygments_lexer": "ipython3",
   "version": "3.10.2"
  }
 },
 "nbformat": 4,
 "nbformat_minor": 5
}
