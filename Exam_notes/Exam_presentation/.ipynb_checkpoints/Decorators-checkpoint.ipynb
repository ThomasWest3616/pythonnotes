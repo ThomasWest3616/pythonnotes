{
 "cells": [
  {
   "cell_type": "markdown",
   "id": "152578ed",
   "metadata": {},
   "source": [
    "# Decorators\n",
    "\n",
    "#### A decorator is a design pattern in Python that allows a user to add new functionality to an existing object without modifying its structure.\n",
    "#### Decorators are a significant part of Python. In simple words: they are functions which modify the functionality of other functions.\n",
    "#### You'll use a decorator when you need to change the behavior of a function without modifying the function itself\n"
   ]
  },
  {
   "cell_type": "code",
   "execution_count": 1,
   "id": "b55dc026",
   "metadata": {},
   "outputs": [
    {
     "name": "stdout",
     "output_type": "stream",
     "text": [
      "Started\n",
      "Hi 2 3 4\n",
      "Ended\n"
     ]
    }
   ],
   "source": [
    "def f1(func):\n",
    "    def wrapper(*args, **kwargs):\n",
    "        print(\"Started\")\n",
    "        val = func(*args, **kwargs)\n",
    "        print(\"Ended\")\n",
    "        return val\n",
    "    \n",
    "    return wrapper\n",
    "\n",
    "@f1\n",
    "def f(a, b, c, d):\n",
    "    print(a, b, c, d)\n",
    "\n",
    "# x = f1(f)\n",
    "\n",
    "f(\"Hi\", 2, 3, 4)"
   ]
  },
  {
   "cell_type": "code",
   "execution_count": null,
   "id": "4b03c581",
   "metadata": {},
   "outputs": [],
   "source": []
  }
 ],
 "metadata": {
  "kernelspec": {
   "display_name": "Python 3 (ipykernel)",
   "language": "python",
   "name": "python3"
  },
  "language_info": {
   "codemirror_mode": {
    "name": "ipython",
    "version": 3
   },
   "file_extension": ".py",
   "mimetype": "text/x-python",
   "name": "python",
   "nbconvert_exporter": "python",
   "pygments_lexer": "ipython3",
   "version": "3.10.2"
  }
 },
 "nbformat": 4,
 "nbformat_minor": 5
}
