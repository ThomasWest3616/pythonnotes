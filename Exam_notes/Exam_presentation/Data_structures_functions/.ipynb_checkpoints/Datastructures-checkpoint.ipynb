{
 "cells": [
  {
   "cell_type": "markdown",
   "id": "adc24d8e",
   "metadata": {},
   "source": [
    "# Lists\n",
    "\n",
    "#### The list is changeable, meaning that we can change, add, and remove items in a list after it has been created.\n"
   ]
  },
  {
   "cell_type": "code",
   "execution_count": 1,
   "id": "daaf88b5",
   "metadata": {},
   "outputs": [
    {
     "name": "stdout",
     "output_type": "stream",
     "text": [
      "['apple', 'banana', 'pineapple']\n",
      "['orange, kiwi']\n"
     ]
    }
   ],
   "source": [
    "mylist = [\"apple\", \"banana\", \"pineapple\"]\n",
    "mylist2 = [\"orange, kiwi\"]\n",
    "\n",
    "print(mylist)\n",
    "print(mylist2)"
   ]
  },
  {
   "cell_type": "markdown",
   "id": "abb93c88",
   "metadata": {},
   "source": [
    "### Add and remove from list"
   ]
  },
  {
   "cell_type": "code",
   "execution_count": 49,
   "id": "053533c5",
   "metadata": {
    "scrolled": true
   },
   "outputs": [
    {
     "name": "stdout",
     "output_type": "stream",
     "text": [
      "['apple', 'pineapple', 'mango', 'orange, kiwi']\n"
     ]
    }
   ],
   "source": [
    "mylist.insert(0, \"orange\") # Tager 2 parametre index og det der skal tilføjes\n",
    "mylist.append(\"mango\") # Tilføj til sidst i listen\n",
    "mylist.remove(\"banana\") # Sletter fra list med value\n",
    "mylist.pop(0) # Sletter efter index\n",
    "mylist.extend(mylist2) # Tilføjer list til list til sidst\n",
    "\n",
    "print(mylist)"
   ]
  },
  {
   "cell_type": "markdown",
   "id": "1282eed3",
   "metadata": {},
   "source": [
    "# Tuples\n",
    "\n",
    "#### Tuples are unchangeable, meaning that we cannot change, add or remove items after the tuple has been created."
   ]
  },
  {
   "cell_type": "code",
   "execution_count": 50,
   "id": "257e17ad",
   "metadata": {},
   "outputs": [
    {
     "name": "stdout",
     "output_type": "stream",
     "text": [
      "3\n"
     ]
    }
   ],
   "source": [
    "mytuple = (\"thomas\", \"abdu\", \"henrik\")\n",
    "\n",
    "print(len(mytuple))"
   ]
  },
  {
   "cell_type": "markdown",
   "id": "2aa32e22",
   "metadata": {},
   "source": [
    "#### Tuples allow duplicate value"
   ]
  },
  {
   "cell_type": "code",
   "execution_count": 51,
   "id": "4fd5f0d5",
   "metadata": {},
   "outputs": [
    {
     "name": "stdout",
     "output_type": "stream",
     "text": [
      "('thomas', 'thomas', 'abdu', 'henrik')\n"
     ]
    }
   ],
   "source": [
    "mytuple = (\"thomas\", \"thomas\", \"abdu\", \"henrik\")\n",
    "\n",
    "print(mytuple)"
   ]
  },
  {
   "cell_type": "markdown",
   "id": "34a3a3fd",
   "metadata": {},
   "source": [
    "### Konverter til list for at manipulere med data"
   ]
  },
  {
   "cell_type": "code",
   "execution_count": 52,
   "id": "1afc5325",
   "metadata": {},
   "outputs": [
    {
     "name": "stdout",
     "output_type": "stream",
     "text": [
      "('thomas', 'kiwi', 'abdu', 'henrik')\n"
     ]
    }
   ],
   "source": [
    "y = list(mytuple)\n",
    "y[1] = \"kiwi\"\n",
    "x = tuple(y)\n",
    "print(x)"
   ]
  },
  {
   "cell_type": "markdown",
   "id": "dd5a49ed",
   "metadata": {},
   "source": [
    "### Join 2 tuples"
   ]
  },
  {
   "cell_type": "code",
   "execution_count": 53,
   "id": "1b1819ab",
   "metadata": {},
   "outputs": [
    {
     "name": "stdout",
     "output_type": "stream",
     "text": [
      "('thomas', 'thomas', 'abdu', 'henrik', 'pernille', 'heriette', 'maja')\n"
     ]
    }
   ],
   "source": [
    "mytuple2 = (\"pernille\" , \"heriette\", \"maja\")\n",
    "mytuple3 = mytuple + mytuple2\n",
    "\n",
    "print(mytuple3)"
   ]
  },
  {
   "cell_type": "markdown",
   "id": "b23ec7ef",
   "metadata": {},
   "source": [
    "# Sets\n",
    "\n",
    "#### Set items are unordered, unchangeable, and do not allow duplicate values. \n",
    "#### Set items are unchangeable, but you can remove items and add new items."
   ]
  },
  {
   "cell_type": "code",
   "execution_count": 54,
   "id": "e46b5d5d",
   "metadata": {},
   "outputs": [
    {
     "name": "stdout",
     "output_type": "stream",
     "text": [
      "{'banana', 'apple', 'cherry'}\n"
     ]
    }
   ],
   "source": [
    "thisset = {\"apple\", \"banana\", \"cherry\"}\n",
    "\n",
    "print(thisset)"
   ]
  },
  {
   "cell_type": "markdown",
   "id": "84ab0c22",
   "metadata": {},
   "source": [
    "### Add and remove items from set"
   ]
  },
  {
   "cell_type": "code",
   "execution_count": 55,
   "id": "ae556ae1",
   "metadata": {},
   "outputs": [
    {
     "name": "stdout",
     "output_type": "stream",
     "text": [
      "{'banana', 'pineapple', 'cherry'}\n"
     ]
    }
   ],
   "source": [
    "thisset.add(\"pineapple\") # Add to set\n",
    "thisset.remove(\"apple\") # Remove from set\n",
    "\n",
    "print(thisset)"
   ]
  },
  {
   "cell_type": "markdown",
   "id": "e18f1022",
   "metadata": {},
   "source": [
    "### Check if pineapple is present in set"
   ]
  },
  {
   "cell_type": "code",
   "execution_count": 56,
   "id": "855ecef8",
   "metadata": {},
   "outputs": [
    {
     "name": "stdout",
     "output_type": "stream",
     "text": [
      "{'banana', 'pineapple', 'cherry'}\n",
      "True\n"
     ]
    }
   ],
   "source": [
    "print(thisset)\n",
    "print(\"pineapple\" in thisset)"
   ]
  },
  {
   "cell_type": "markdown",
   "id": "74eef744",
   "metadata": {},
   "source": [
    "# Dictionaries\n",
    "\n",
    "#### Dictionaries are used to store data values in key:value pairs.\n",
    "####  A dictionary is a collection which is ordered*, changeable and do not allow duplicates.\n",
    "#### Dictionaries are changeable, meaning that we can change, add or remove items after the dictionary has been created."
   ]
  },
  {
   "cell_type": "code",
   "execution_count": 57,
   "id": "6bf2a78b",
   "metadata": {},
   "outputs": [
    {
     "name": "stdout",
     "output_type": "stream",
     "text": [
      "{'brand': 'Ford', 'electric': False, 'year': 1964, 'colors': ['red', 'white', 'blue']}\n",
      "Ford\n",
      "dict_keys(['brand', 'electric', 'year', 'colors'])\n"
     ]
    }
   ],
   "source": [
    "thisdict = {\n",
    "  \"brand\": \"Ford\",\n",
    "  \"electric\": False,\n",
    "  \"year\": 1964,\n",
    "  \"colors\": [\"red\", \"white\", \"blue\"]\n",
    "}\n",
    "\n",
    "print(thisdict)\n",
    "\n",
    "print(thisdict[\"brand\"]) # Vi bruger key til at finde frem til value\n",
    "print(thisdict.keys()) # Bruger vi til at få alle vores keys printet ud"
   ]
  },
  {
   "cell_type": "markdown",
   "id": "e5f97694",
   "metadata": {},
   "source": [
    "### Add, remove and update from Dictionary"
   ]
  },
  {
   "cell_type": "code",
   "execution_count": 42,
   "id": "20065e2d",
   "metadata": {},
   "outputs": [
    {
     "name": "stdout",
     "output_type": "stream",
     "text": [
      "{'electric': False, 'year': 1964, 'colors': ['red', 'white', 'blue']}\n"
     ]
    }
   ],
   "source": [
    "thisdict[\"SUV\"] = True # Add key and value to dict\n",
    "thisdict.pop(\"brand\") # Remove from dict using key\n",
    "thisdict.popitem() # Removes last item from dict\n",
    "print(thisdict)"
   ]
  },
  {
   "cell_type": "markdown",
   "id": "ff7bac4a",
   "metadata": {},
   "source": [
    "### Using list with objects"
   ]
  },
  {
   "cell_type": "code",
   "execution_count": 3,
   "id": "fb7bae61",
   "metadata": {},
   "outputs": [],
   "source": [
    "class geeks: \n",
    "    def __init__(self, name, roll): \n",
    "        self.name = name \n",
    "        self.roll = roll"
   ]
  },
  {
   "cell_type": "code",
   "execution_count": 4,
   "id": "19abe2ac",
   "metadata": {},
   "outputs": [],
   "source": [
    "# creating list       \n",
    "list = [] \n",
    "  \n",
    "# appending instances to list \n",
    "list.append( geeks('Akash', 2) )\n",
    "list.append( geeks('Deependra', 40) )\n",
    "list.append( geeks('Reaper', 44) )"
   ]
  },
  {
   "cell_type": "code",
   "execution_count": 5,
   "id": "65afafca",
   "metadata": {},
   "outputs": [
    {
     "name": "stdout",
     "output_type": "stream",
     "text": [
      "Akash 2\n",
      "Deependra 40\n",
      "Reaper 44\n"
     ]
    }
   ],
   "source": [
    "for obj in list:\n",
    "    print( obj.name, obj.roll, sep =' ' )"
   ]
  },
  {
   "cell_type": "code",
   "execution_count": 6,
   "id": "1708cb41",
   "metadata": {},
   "outputs": [
    {
     "name": "stdout",
     "output_type": "stream",
     "text": [
      "3\n"
     ]
    }
   ],
   "source": [
    "print(len(list))"
   ]
  }
 ],
 "metadata": {
  "kernelspec": {
   "display_name": "Python 3 (ipykernel)",
   "language": "python",
   "name": "python3"
  },
  "language_info": {
   "codemirror_mode": {
    "name": "ipython",
    "version": 3
   },
   "file_extension": ".py",
   "mimetype": "text/x-python",
   "name": "python",
   "nbconvert_exporter": "python",
   "pygments_lexer": "ipython3",
   "version": "3.10.2"
  }
 },
 "nbformat": 4,
 "nbformat_minor": 5
}
