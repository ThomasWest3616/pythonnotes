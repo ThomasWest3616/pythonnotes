{
 "cells": [
  {
   "cell_type": "markdown",
   "id": "152578ed",
   "metadata": {},
   "source": [
    "# Decorators\n",
    "\n",
    "#### A decorator is a design pattern in Python that allows a user to add new functionality to an existing object without modifying its structure.\n",
    "#### Decorators are a significant part of Python. In simple words: they are functions which modify the functionality of other functions.\n",
    "#### You'll use a decorator when you need to change the behavior of a function without modifying the function itself\n"
   ]
  },
  {
   "cell_type": "code",
   "execution_count": 13,
   "id": "b55dc026",
   "metadata": {},
   "outputs": [
    {
     "name": "stdout",
     "output_type": "stream",
     "text": [
      "Started\n",
      "Hi 2 3 4\n",
      "Ended\n"
     ]
    }
   ],
   "source": [
    "def f1(func):\n",
    "    def wrapper(*args, **kwargs):\n",
    "        print(\"Started\")\n",
    "        val = func(*args, **kwargs)\n",
    "        print(\"Ended\")\n",
    "        return val\n",
    "    \n",
    "    return wrapper\n",
    "\n",
    "@f1\n",
    "def f(a, b, c, d):\n",
    "    print(a, b, c, d)\n",
    "\n",
    "f(\"Hi\", 2, 3, 4)"
   ]
  },
  {
   "cell_type": "markdown",
   "id": "702d3a4e",
   "metadata": {},
   "source": [
    "### Args"
   ]
  },
  {
   "cell_type": "code",
   "execution_count": 5,
   "id": "4a19c1dd",
   "metadata": {},
   "outputs": [
    {
     "name": "stdout",
     "output_type": "stream",
     "text": [
      "Sum: 8\n",
      "Sum: 39\n"
     ]
    }
   ],
   "source": [
    "def adder(*args):\n",
    "    sum = 0\n",
    "    \n",
    "    for n in args:\n",
    "        sum = sum + n\n",
    "\n",
    "    print(\"Sum:\",sum)\n",
    "\n",
    "adder(3,5)\n",
    "adder(4,5,6,7,8,9)"
   ]
  },
  {
   "cell_type": "markdown",
   "id": "2d7885fb",
   "metadata": {},
   "source": [
    "### Kwargs"
   ]
  },
  {
   "cell_type": "code",
   "execution_count": 10,
   "id": "534c6a20",
   "metadata": {},
   "outputs": [
    {
     "name": "stdout",
     "output_type": "stream",
     "text": [
      "Firstname is Sita\n",
      "Lastname is Sharma\n",
      "Age is 22\n",
      "Phone is 1234567890\n",
      "Firstname is John\n",
      "Lastname is Wood\n",
      "Email is johnwood@nomail.com\n",
      "Country is Wakanda\n",
      "Age is 25\n",
      "Phone is 9876543210\n"
     ]
    }
   ],
   "source": [
    "def intro(**kwargs):\n",
    "\n",
    "    for key, value in kwargs.items():\n",
    "        print(\"{} is {}\".format(key,value))\n",
    "\n",
    "intro(Firstname=\"Sita\", Lastname=\"Sharma\", Age=22, Phone=1234567890)\n",
    "intro(Firstname=\"John\", Lastname=\"Wood\", Email=\"johnwood@nomail.com\", Country=\"Wakanda\", Age=25, Phone=9876543210)"
   ]
  },
  {
   "cell_type": "code",
   "execution_count": null,
   "id": "7d022144",
   "metadata": {},
   "outputs": [],
   "source": []
  }
 ],
 "metadata": {
  "kernelspec": {
   "display_name": "Python 3 (ipykernel)",
   "language": "python",
   "name": "python3"
  },
  "language_info": {
   "codemirror_mode": {
    "name": "ipython",
    "version": 3
   },
   "file_extension": ".py",
   "mimetype": "text/x-python",
   "name": "python",
   "nbconvert_exporter": "python",
   "pygments_lexer": "ipython3",
   "version": "3.10.2"
  }
 },
 "nbformat": 4,
 "nbformat_minor": 5
}
