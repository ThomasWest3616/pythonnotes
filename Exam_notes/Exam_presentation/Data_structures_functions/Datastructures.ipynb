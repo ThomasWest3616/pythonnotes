{
 "cells": [
  {
   "cell_type": "markdown",
   "id": "adc24d8e",
   "metadata": {},
   "source": [
    "# Lists\n",
    "\n",
    "#### The list is changeable, meaning that we can change, add, and remove items in a list after it has been created.\n"
   ]
  },
  {
   "cell_type": "code",
   "execution_count": 36,
   "id": "daaf88b5",
   "metadata": {},
   "outputs": [
    {
     "name": "stdout",
     "output_type": "stream",
     "text": [
      "['apple', 'banana', 'pineapple']\n",
      "['orange, kiwi']\n"
     ]
    }
   ],
   "source": [
    "mylist = [\"apple\", \"banana\", \"pineapple\"]\n",
    "mylist2 = [\"orange, kiwi\"]\n",
    "\n",
    "print(mylist)\n",
    "print(mylist2)"
   ]
  },
  {
   "cell_type": "markdown",
   "id": "abb93c88",
   "metadata": {},
   "source": [
    "### Add and remove from list"
   ]
  },
  {
   "cell_type": "code",
   "execution_count": 37,
   "id": "053533c5",
   "metadata": {},
   "outputs": [
    {
     "name": "stdout",
     "output_type": "stream",
     "text": [
      "['orange', 'pineapple', 'mango', 'orange, kiwi']\n"
     ]
    }
   ],
   "source": [
    "mylist.insert(0, \"orange\") # Tager 2 parametre index og det der skal tilføjes\n",
    "mylist.append(\"mango\") # Tilføj til sidst i listen\n",
    "mylist.remove(\"banana\") # Sletter fra list med value\n",
    "mylist.pop(1) # Sletter efter index\n",
    "mylist.extend(mylist2) # Tilføjer list til list til sidst\n",
    "\n",
    "print(mylist)"
   ]
  },
  {
   "cell_type": "markdown",
   "id": "1282eed3",
   "metadata": {},
   "source": [
    "# Tuples\n",
    "\n",
    "#### Tuples are unchangeable, meaning that we cannot change, add or remove items after the tuple has been created."
   ]
  },
  {
   "cell_type": "code",
   "execution_count": 38,
   "id": "257e17ad",
   "metadata": {},
   "outputs": [
    {
     "name": "stdout",
     "output_type": "stream",
     "text": [
      "3\n"
     ]
    }
   ],
   "source": [
    "mytuple = (\"thomas\", \"abdu\", \"henrik\")\n",
    "\n",
    "print(len(mytuple))"
   ]
  },
  {
   "cell_type": "markdown",
   "id": "2aa32e22",
   "metadata": {},
   "source": [
    "#### Tuples allow duplicate value"
   ]
  },
  {
   "cell_type": "code",
   "execution_count": 42,
   "id": "4fd5f0d5",
   "metadata": {},
   "outputs": [
    {
     "name": "stdout",
     "output_type": "stream",
     "text": [
      "('thomas', 'thomas', 'abdu', 'henrik')\n"
     ]
    }
   ],
   "source": [
    "mytuple = (\"thomas\", \"thomas\", \"abdu\", \"henrik\")\n",
    "\n",
    "print(mytuple)"
   ]
  },
  {
   "cell_type": "markdown",
   "id": "34a3a3fd",
   "metadata": {},
   "source": [
    "### Konverter til list for at manipulere med data"
   ]
  },
  {
   "cell_type": "code",
   "execution_count": 47,
   "id": "1afc5325",
   "metadata": {
    "collapsed": true
   },
   "outputs": [
    {
     "ename": "TypeError",
     "evalue": "'list' object is not callable",
     "output_type": "error",
     "traceback": [
      "\u001b[1;31m---------------------------------------------------------------------------\u001b[0m",
      "\u001b[1;31mTypeError\u001b[0m                                 Traceback (most recent call last)",
      "Input \u001b[1;32mIn [47]\u001b[0m, in \u001b[0;36m<module>\u001b[1;34m\u001b[0m\n\u001b[0;32m      2\u001b[0m aTuple \u001b[38;5;241m=\u001b[39m (\u001b[38;5;28;01mTrue\u001b[39;00m, \u001b[38;5;241m28\u001b[39m, \u001b[38;5;124m'\u001b[39m\u001b[38;5;124mTiger\u001b[39m\u001b[38;5;124m'\u001b[39m)\n\u001b[0;32m      4\u001b[0m \u001b[38;5;66;03m#tuple to list\u001b[39;00m\n\u001b[1;32m----> 5\u001b[0m aList \u001b[38;5;241m=\u001b[39m \u001b[38;5;28;43mlist\u001b[39;49m\u001b[43m(\u001b[49m\u001b[43maTuple\u001b[49m\u001b[43m)\u001b[49m\n\u001b[0;32m      7\u001b[0m \u001b[38;5;66;03m#print list\u001b[39;00m\n\u001b[0;32m      8\u001b[0m \u001b[38;5;28mprint\u001b[39m(\u001b[38;5;28mtype\u001b[39m(aList))\n",
      "\u001b[1;31mTypeError\u001b[0m: 'list' object is not callable"
     ]
    }
   ],
   "source": [
    "#initialize tuple\n",
    "aTuple = (True, 28, 'Tiger')\n",
    " \n",
    "#tuple to list\n",
    "aList = list(aTuple)\n",
    " \n",
    "#print list\n",
    "print(type(aList))\n",
    "print(aList)"
   ]
  },
  {
   "cell_type": "markdown",
   "id": "b7e8c2f8",
   "metadata": {},
   "source": [
    "<class 'list'>     \n",
    "[True, 28, 'Tiger']"
   ]
  },
  {
   "cell_type": "markdown",
   "id": "dd5a49ed",
   "metadata": {},
   "source": [
    "### Join 2 tuples"
   ]
  },
  {
   "cell_type": "code",
   "execution_count": null,
   "id": "1b1819ab",
   "metadata": {},
   "outputs": [],
   "source": [
    "mytuple2 = (\"pernille\" , \"heriette\", \"maja\")\n",
    "mytuple3 = mytuple + mytuple2\n",
    "\n",
    "print(mytuple3)"
   ]
  },
  {
   "cell_type": "markdown",
   "id": "b23ec7ef",
   "metadata": {},
   "source": [
    "# Sets\n",
    "\n",
    "#### Set items are unordered, unchangeable, and do not allow duplicate values. \n",
    "#### Set items are unchangeable, but you can remove items and add new items."
   ]
  },
  {
   "cell_type": "code",
   "execution_count": null,
   "id": "e46b5d5d",
   "metadata": {},
   "outputs": [],
   "source": [
    "thisset = {\"apple\", \"banana\", \"cherry\"}\n",
    "\n",
    "print(thisset)"
   ]
  },
  {
   "cell_type": "markdown",
   "id": "84ab0c22",
   "metadata": {},
   "source": [
    "### Add and remove items from set"
   ]
  },
  {
   "cell_type": "code",
   "execution_count": null,
   "id": "ae556ae1",
   "metadata": {},
   "outputs": [],
   "source": [
    "thisset.add(\"pineapple\") # Add to set\n",
    "thisset.remove(\"apple\") # Remove from set\n",
    "\n",
    "print(thisset)"
   ]
  },
  {
   "cell_type": "markdown",
   "id": "e18f1022",
   "metadata": {},
   "source": [
    "### Check if pineapple is present in set"
   ]
  },
  {
   "cell_type": "code",
   "execution_count": null,
   "id": "855ecef8",
   "metadata": {},
   "outputs": [],
   "source": [
    "print(thisset)\n",
    "print(\"pineapple\" in thisset)"
   ]
  },
  {
   "cell_type": "markdown",
   "id": "74eef744",
   "metadata": {},
   "source": [
    "# Dictionaries\n",
    "\n",
    "#### Dictionaries are used to store data values in key:value pairs.\n",
    "####  A dictionary is a collection which is ordered*, changeable and do not allow duplicates.\n",
    "#### Dictionaries are changeable, meaning that we can change, add or remove items after the dictionary has been created."
   ]
  },
  {
   "cell_type": "code",
   "execution_count": null,
   "id": "6bf2a78b",
   "metadata": {},
   "outputs": [],
   "source": [
    "thisdict = {\n",
    "  \"brand\": \"Ford\",\n",
    "  \"electric\": False,\n",
    "  \"year\": 1964,\n",
    "  \"colors\": [\"red\", \"white\", \"blue\"]\n",
    "}\n",
    "\n",
    "print(thisdict)\n",
    "\n",
    "print(thisdict[\"brand\"]) # Vi bruger key til at finde frem til value\n",
    "print(thisdict.keys()) # Bruger vi til at få alle vores keys printet ud"
   ]
  },
  {
   "cell_type": "markdown",
   "id": "e5f97694",
   "metadata": {},
   "source": [
    "### Add, remove and update from Dictionary"
   ]
  },
  {
   "cell_type": "code",
   "execution_count": null,
   "id": "20065e2d",
   "metadata": {},
   "outputs": [],
   "source": [
    "thisdict[\"SUV\"] = True # Add key and value to dict\n",
    "thisdict.pop(\"brand\") # Remove from dict using key\n",
    "thisdict.popitem() # Removes last item from dict\n",
    "print(thisdict)"
   ]
  },
  {
   "cell_type": "markdown",
   "id": "ff7bac4a",
   "metadata": {},
   "source": [
    "### Using list with objects"
   ]
  },
  {
   "cell_type": "code",
   "execution_count": null,
   "id": "fb7bae61",
   "metadata": {},
   "outputs": [],
   "source": [
    "class geeks: \n",
    "    def __init__(self, name, roll): \n",
    "        self.name = name \n",
    "        self.roll = roll"
   ]
  },
  {
   "cell_type": "code",
   "execution_count": null,
   "id": "19abe2ac",
   "metadata": {},
   "outputs": [],
   "source": [
    "# creating list       \n",
    "list = [] \n",
    "  \n",
    "# appending instances to list \n",
    "list.append( geeks('Akash', 2) )\n",
    "list.append( geeks('Deependra', 40) )\n",
    "list.append( geeks('Reaper', 44) )"
   ]
  },
  {
   "cell_type": "code",
   "execution_count": null,
   "id": "65afafca",
   "metadata": {},
   "outputs": [],
   "source": [
    "for obj in list:\n",
    "    print( obj.name, obj.roll, sep =' ' )"
   ]
  },
  {
   "cell_type": "code",
   "execution_count": null,
   "id": "1708cb41",
   "metadata": {},
   "outputs": [],
   "source": [
    "print(len(list))"
   ]
  },
  {
   "cell_type": "code",
   "execution_count": null,
   "id": "7db72dc1",
   "metadata": {},
   "outputs": [],
   "source": []
  }
 ],
 "metadata": {
  "kernelspec": {
   "display_name": "Python 3 (ipykernel)",
   "language": "python",
   "name": "python3"
  },
  "language_info": {
   "codemirror_mode": {
    "name": "ipython",
    "version": 3
   },
   "file_extension": ".py",
   "mimetype": "text/x-python",
   "name": "python",
   "nbconvert_exporter": "python",
   "pygments_lexer": "ipython3",
   "version": "3.10.2"
  }
 },
 "nbformat": 4,
 "nbformat_minor": 5
}
